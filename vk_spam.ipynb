{
 "cells": [
  {
   "cell_type": "code",
   "execution_count": 17,
   "id": "682bf4d9",
   "metadata": {},
   "outputs": [],
   "source": [
    "import pandas as pd\n",
    "from sklearn.model_selection import train_test_split\n",
    "from sklearn.feature_extraction.text import TfidfVectorizer\n",
    "from sklearn.naive_bayes import MultinomialNB\n",
    "from sklearn.linear_model import LogisticRegression\n",
    "from xgboost import XGBClassifier\n",
    "from sklearn.pipeline import Pipeline\n",
    "from sklearn.metrics import roc_auc_score"
   ]
  },
  {
   "cell_type": "markdown",
   "id": "6748c117",
   "metadata": {},
   "source": [
    "# Предобработка данных"
   ]
  },
  {
   "cell_type": "code",
   "execution_count": 29,
   "id": "3a773f32",
   "metadata": {},
   "outputs": [],
   "source": [
    "train_data_path = 'train_spam.csv'\n",
    "train_data = pd.read_csv(train_data_path)\n",
    "\n",
    "test_data_path = 'test_spam.csv'\n",
    "test_data = pd.read_csv(test_data_path)"
   ]
  },
  {
   "cell_type": "code",
   "execution_count": 30,
   "id": "695c3931",
   "metadata": {},
   "outputs": [
    {
     "data": {
      "text/html": [
       "<div>\n",
       "<style scoped>\n",
       "    .dataframe tbody tr th:only-of-type {\n",
       "        vertical-align: middle;\n",
       "    }\n",
       "\n",
       "    .dataframe tbody tr th {\n",
       "        vertical-align: top;\n",
       "    }\n",
       "\n",
       "    .dataframe thead th {\n",
       "        text-align: right;\n",
       "    }\n",
       "</style>\n",
       "<table border=\"1\" class=\"dataframe\">\n",
       "  <thead>\n",
       "    <tr style=\"text-align: right;\">\n",
       "      <th></th>\n",
       "      <th>text_type</th>\n",
       "      <th>text</th>\n",
       "    </tr>\n",
       "  </thead>\n",
       "  <tbody>\n",
       "    <tr>\n",
       "      <th>0</th>\n",
       "      <td>ham</td>\n",
       "      <td>make sure alex knows his birthday is over in f...</td>\n",
       "    </tr>\n",
       "    <tr>\n",
       "      <th>1</th>\n",
       "      <td>ham</td>\n",
       "      <td>a resume for john lavorato thanks vince i will...</td>\n",
       "    </tr>\n",
       "    <tr>\n",
       "      <th>2</th>\n",
       "      <td>spam</td>\n",
       "      <td>plzz visit my website moviesgodml to get all m...</td>\n",
       "    </tr>\n",
       "    <tr>\n",
       "      <th>3</th>\n",
       "      <td>spam</td>\n",
       "      <td>urgent your mobile number has been awarded wit...</td>\n",
       "    </tr>\n",
       "    <tr>\n",
       "      <th>4</th>\n",
       "      <td>ham</td>\n",
       "      <td>overview of hr associates analyst project per ...</td>\n",
       "    </tr>\n",
       "    <tr>\n",
       "      <th>...</th>\n",
       "      <td>...</td>\n",
       "      <td>...</td>\n",
       "    </tr>\n",
       "    <tr>\n",
       "      <th>16273</th>\n",
       "      <td>spam</td>\n",
       "      <td>if you are interested in binary options tradin...</td>\n",
       "    </tr>\n",
       "    <tr>\n",
       "      <th>16274</th>\n",
       "      <td>spam</td>\n",
       "      <td>dirty pictureblyk on aircel thanks you for bei...</td>\n",
       "    </tr>\n",
       "    <tr>\n",
       "      <th>16275</th>\n",
       "      <td>ham</td>\n",
       "      <td>or you could do this g on mon 1635465 sep 1635...</td>\n",
       "    </tr>\n",
       "    <tr>\n",
       "      <th>16276</th>\n",
       "      <td>ham</td>\n",
       "      <td>insta reels par 80 गंद bhara pada hai 👀 kuch b...</td>\n",
       "    </tr>\n",
       "    <tr>\n",
       "      <th>16277</th>\n",
       "      <td>ham</td>\n",
       "      <td>alex s paper comments 1 in the sentence betwee...</td>\n",
       "    </tr>\n",
       "  </tbody>\n",
       "</table>\n",
       "<p>16278 rows × 2 columns</p>\n",
       "</div>"
      ],
      "text/plain": [
       "      text_type                                               text\n",
       "0           ham  make sure alex knows his birthday is over in f...\n",
       "1           ham  a resume for john lavorato thanks vince i will...\n",
       "2          spam  plzz visit my website moviesgodml to get all m...\n",
       "3          spam  urgent your mobile number has been awarded wit...\n",
       "4           ham  overview of hr associates analyst project per ...\n",
       "...         ...                                                ...\n",
       "16273      spam  if you are interested in binary options tradin...\n",
       "16274      spam  dirty pictureblyk on aircel thanks you for bei...\n",
       "16275       ham  or you could do this g on mon 1635465 sep 1635...\n",
       "16276       ham  insta reels par 80 गंद bhara pada hai 👀 kuch b...\n",
       "16277       ham  alex s paper comments 1 in the sentence betwee...\n",
       "\n",
       "[16278 rows x 2 columns]"
      ]
     },
     "execution_count": 30,
     "metadata": {},
     "output_type": "execute_result"
    }
   ],
   "source": [
    "train_data"
   ]
  },
  {
   "cell_type": "markdown",
   "id": "d317d4cc",
   "metadata": {},
   "source": [
    "Преобразуем столбец text_type: знаечние \"spam\" заменим на 1, а \"ham\" на 0, создадим из этих значений новый столбец"
   ]
  },
  {
   "cell_type": "code",
   "execution_count": 34,
   "id": "351abfca",
   "metadata": {},
   "outputs": [],
   "source": [
    "train_data['label'] = train_data['text_type'].map({'spam': 1, 'ham': 0})"
   ]
  },
  {
   "cell_type": "markdown",
   "id": "4f92e786",
   "metadata": {},
   "source": [
    "Выведем краткую статистику по длинам приведенных текстов"
   ]
  },
  {
   "cell_type": "code",
   "execution_count": 35,
   "id": "caa7944d",
   "metadata": {},
   "outputs": [
    {
     "data": {
      "text/plain": [
       "count    16278.000000\n",
       "mean       310.383524\n",
       "std        287.818154\n",
       "min          1.000000\n",
       "25%         60.000000\n",
       "50%        157.000000\n",
       "75%        639.000000\n",
       "max        800.000000\n",
       "Name: text_length, dtype: float64"
      ]
     },
     "execution_count": 35,
     "metadata": {},
     "output_type": "execute_result"
    }
   ],
   "source": [
    "train_data['text_length'] = train_data['text'].apply(len)\n",
    "\n",
    "text_length_stats = train_data['text_length'].describe()\n",
    "\n",
    "text_length_stats"
   ]
  },
  {
   "cell_type": "markdown",
   "id": "b6ca58d7",
   "metadata": {},
   "source": [
    "Самыми распространенными методами для решения такой задачи классификации текста являются наивный Байес, логистическая регрессия и XBBoost. Применим каждый из них, выберем метод с наибольшим значением ROC-AUC"
   ]
  },
  {
   "cell_type": "markdown",
   "id": "6c74ab60",
   "metadata": {},
   "source": [
    "# Наивный Байес"
   ]
  },
  {
   "cell_type": "code",
   "execution_count": 36,
   "id": "ceafea52",
   "metadata": {},
   "outputs": [],
   "source": [
    "pipeline_NB = Pipeline([\n",
    "    ('tfidf', TfidfVectorizer(stop_words='english')),\n",
    "    ('classifier', MultinomialNB()),\n",
    "])\n",
    "\n",
    "\n",
    "X_train, X_val, y_train, y_val = train_test_split(\n",
    "    train_data['text'], \n",
    "    train_data['label'], \n",
    "    test_size=0.2, \n",
    "    random_state=42\n",
    ")\n",
    "\n",
    "pipeline_NB.fit(X_train, y_train)\n",
    "\n",
    "probabilities_NB = pipeline_NB.predict_proba(X_val)[:, 1]"
   ]
  },
  {
   "cell_type": "code",
   "execution_count": 37,
   "id": "fd9d669d",
   "metadata": {},
   "outputs": [
    {
     "data": {
      "text/plain": [
       "0.9546788563845106"
      ]
     },
     "execution_count": 37,
     "metadata": {},
     "output_type": "execute_result"
    }
   ],
   "source": [
    "roc_auc_NB = roc_auc_score(y_val, probabilities_NB)\n",
    "roc_auc_NB"
   ]
  },
  {
   "cell_type": "markdown",
   "id": "12699466",
   "metadata": {},
   "source": [
    "# Логистическая регрессия"
   ]
  },
  {
   "cell_type": "code",
   "execution_count": 10,
   "id": "7b7209d1",
   "metadata": {},
   "outputs": [],
   "source": [
    "pipeline_LR = Pipeline([\n",
    "    ('tfidf', TfidfVectorizer(stop_words='english')),\n",
    "    ('classifier', LogisticRegression()),\n",
    "])\n",
    "\n",
    "pipeline_LR.fit(X_train, y_train)\n",
    "\n",
    "probabilities_LR = pipeline_LR.predict_proba(X_val)[:, 1]"
   ]
  },
  {
   "cell_type": "code",
   "execution_count": 11,
   "id": "5e6c66a5",
   "metadata": {},
   "outputs": [
    {
     "data": {
      "text/plain": [
       "0.9768876129826024"
      ]
     },
     "execution_count": 11,
     "metadata": {},
     "output_type": "execute_result"
    }
   ],
   "source": [
    "roc_auc_LR = roc_auc_score(y_val, probabilities_LR)\n",
    "roc_auc_LR"
   ]
  },
  {
   "cell_type": "markdown",
   "id": "71ce1c46",
   "metadata": {},
   "source": [
    "# XGBoost"
   ]
  },
  {
   "cell_type": "code",
   "execution_count": 19,
   "id": "753b62d9",
   "metadata": {},
   "outputs": [],
   "source": [
    "pipeline_XGB = Pipeline([\n",
    "    ('tfidf', TfidfVectorizer(stop_words='english')),\n",
    "    ('classifier', XGBClassifier(use_label_encoder=False, eval_metric='logloss')),\n",
    "])\n",
    "\n",
    "pipeline_XGB.fit(X_train, y_train)\n",
    "\n",
    "probabilities_LR = pipeline_XGB.predict_proba(X_val)[:, 1]"
   ]
  },
  {
   "cell_type": "code",
   "execution_count": 21,
   "id": "0e02f9c3",
   "metadata": {},
   "outputs": [
    {
     "data": {
      "text/plain": [
       "0.9714616832593364"
      ]
     },
     "execution_count": 21,
     "metadata": {},
     "output_type": "execute_result"
    }
   ],
   "source": [
    "roc_auc_xgb = roc_auc_score(y_val, probabilities_LR)\n",
    "roc_auc_xgb"
   ]
  },
  {
   "cell_type": "markdown",
   "id": "dd5c9c11",
   "metadata": {},
   "source": [
    "# Применение логистической регрессии к тестовым данным"
   ]
  },
  {
   "cell_type": "markdown",
   "id": "4f747b97",
   "metadata": {},
   "source": [
    "Так как знаечние ROC-AUC у логистической регрессии оказалось наибольшим, применим ее к тестовому набору данных"
   ]
  },
  {
   "cell_type": "code",
   "execution_count": 23,
   "id": "7fbfeb3b",
   "metadata": {},
   "outputs": [],
   "source": [
    "test_probabilities = pipeline_LR.predict_proba(test_data['text'])[:, 1]\n",
    "\n",
    "output_LR = pd.DataFrame({\n",
    "    'text': test_data['text'],\n",
    "    'score': test_probabilities\n",
    "})\n",
    "\n",
    "output_csv_path = 'spam_predictions.csv'\n",
    "output_LR.to_csv(output_csv_path, index=False)"
   ]
  },
  {
   "cell_type": "code",
   "execution_count": 25,
   "id": "ded41c08",
   "metadata": {},
   "outputs": [
    {
     "data": {
      "text/html": [
       "<div>\n",
       "<style scoped>\n",
       "    .dataframe tbody tr th:only-of-type {\n",
       "        vertical-align: middle;\n",
       "    }\n",
       "\n",
       "    .dataframe tbody tr th {\n",
       "        vertical-align: top;\n",
       "    }\n",
       "\n",
       "    .dataframe thead th {\n",
       "        text-align: right;\n",
       "    }\n",
       "</style>\n",
       "<table border=\"1\" class=\"dataframe\">\n",
       "  <thead>\n",
       "    <tr style=\"text-align: right;\">\n",
       "      <th></th>\n",
       "      <th>text</th>\n",
       "      <th>score</th>\n",
       "    </tr>\n",
       "  </thead>\n",
       "  <tbody>\n",
       "    <tr>\n",
       "      <th>0</th>\n",
       "      <td>j jim whitehead ejw cse ucsc edu writes j you ...</td>\n",
       "      <td>0.156657</td>\n",
       "    </tr>\n",
       "    <tr>\n",
       "      <th>1</th>\n",
       "      <td>original message from bitbitch magnesium net p...</td>\n",
       "      <td>0.123235</td>\n",
       "    </tr>\n",
       "    <tr>\n",
       "      <th>2</th>\n",
       "      <td>java for managers vince durasoft who just taug...</td>\n",
       "      <td>0.089381</td>\n",
       "    </tr>\n",
       "    <tr>\n",
       "      <th>3</th>\n",
       "      <td>there is a youtuber name saiman says</td>\n",
       "      <td>0.156820</td>\n",
       "    </tr>\n",
       "    <tr>\n",
       "      <th>4</th>\n",
       "      <td>underpriced issue with high return on equity t...</td>\n",
       "      <td>0.396997</td>\n",
       "    </tr>\n",
       "    <tr>\n",
       "      <th>...</th>\n",
       "      <td>...</td>\n",
       "      <td>...</td>\n",
       "    </tr>\n",
       "    <tr>\n",
       "      <th>4065</th>\n",
       "      <td>husband to wifetum meri zindagi hoorwifeor kya...</td>\n",
       "      <td>0.194229</td>\n",
       "    </tr>\n",
       "    <tr>\n",
       "      <th>4066</th>\n",
       "      <td>baylor enron case study cindy yes i shall co a...</td>\n",
       "      <td>0.001815</td>\n",
       "    </tr>\n",
       "    <tr>\n",
       "      <th>4067</th>\n",
       "      <td>boring as compared to tp</td>\n",
       "      <td>0.211398</td>\n",
       "    </tr>\n",
       "    <tr>\n",
       "      <th>4068</th>\n",
       "      <td>hellogorgeous hows u my fone was on charge lst...</td>\n",
       "      <td>0.058747</td>\n",
       "    </tr>\n",
       "    <tr>\n",
       "      <th>4069</th>\n",
       "      <td>energy conference mark we are really swamped a...</td>\n",
       "      <td>0.005646</td>\n",
       "    </tr>\n",
       "  </tbody>\n",
       "</table>\n",
       "<p>4070 rows × 2 columns</p>\n",
       "</div>"
      ],
      "text/plain": [
       "                                                   text     score\n",
       "0     j jim whitehead ejw cse ucsc edu writes j you ...  0.156657\n",
       "1     original message from bitbitch magnesium net p...  0.123235\n",
       "2     java for managers vince durasoft who just taug...  0.089381\n",
       "3                  there is a youtuber name saiman says  0.156820\n",
       "4     underpriced issue with high return on equity t...  0.396997\n",
       "...                                                 ...       ...\n",
       "4065  husband to wifetum meri zindagi hoorwifeor kya...  0.194229\n",
       "4066  baylor enron case study cindy yes i shall co a...  0.001815\n",
       "4067                           boring as compared to tp  0.211398\n",
       "4068  hellogorgeous hows u my fone was on charge lst...  0.058747\n",
       "4069  energy conference mark we are really swamped a...  0.005646\n",
       "\n",
       "[4070 rows x 2 columns]"
      ]
     },
     "execution_count": 25,
     "metadata": {},
     "output_type": "execute_result"
    }
   ],
   "source": [
    "output_LR"
   ]
  }
 ],
 "metadata": {
  "kernelspec": {
   "display_name": "Python 3 (ipykernel)",
   "language": "python",
   "name": "python3"
  },
  "language_info": {
   "codemirror_mode": {
    "name": "ipython",
    "version": 3
   },
   "file_extension": ".py",
   "mimetype": "text/x-python",
   "name": "python",
   "nbconvert_exporter": "python",
   "pygments_lexer": "ipython3",
   "version": "3.9.13"
  }
 },
 "nbformat": 4,
 "nbformat_minor": 5
}
